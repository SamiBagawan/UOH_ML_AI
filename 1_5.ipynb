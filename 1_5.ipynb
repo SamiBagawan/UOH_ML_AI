{
  "nbformat": 4,
  "nbformat_minor": 0,
  "metadata": {
    "kernelspec": {
      "display_name": "Python 2",
      "language": "python",
      "name": "python2"
    },
    "language_info": {
      "codemirror_mode": {
        "name": "ipython",
        "version": 2
      },
      "file_extension": ".py",
      "mimetype": "text/x-python",
      "name": "python",
      "nbconvert_exporter": "python",
      "pygments_lexer": "ipython2",
      "version": "2.7.10"
    },
    "colab": {
      "name": "1.5.ipynb",
      "provenance": [],
      "include_colab_link": true
    }
  },
  "cells": [
    {
      "cell_type": "markdown",
      "metadata": {
        "id": "view-in-github",
        "colab_type": "text"
      },
      "source": [
        "<a href=\"https://colab.research.google.com/github/SamiBagawan/UOH_ML_AI/blob/main/1_5.ipynb\" target=\"_parent\"><img src=\"https://colab.research.google.com/assets/colab-badge.svg\" alt=\"Open In Colab\"/></a>"
      ]
    },
    {
      "cell_type": "markdown",
      "metadata": {
        "id": "FgXPUuY93T9C"
      },
      "source": [
        "# Python Input and Output"
      ]
    },
    {
      "cell_type": "markdown",
      "metadata": {
        "id": "qttcOEpe3T9J"
      },
      "source": [
        "# Python Output"
      ]
    },
    {
      "cell_type": "markdown",
      "metadata": {
        "id": "rInODMs23T9K"
      },
      "source": [
        "We use the print() function to output data to the standard output device"
      ]
    },
    {
      "cell_type": "code",
      "metadata": {
        "id": "W2iSzLTo3T9L",
        "outputId": "e93d8425-fa2b-472e-a312-4899c3228c2c"
      },
      "source": [
        "print(\"Hello World\")"
      ],
      "execution_count": null,
      "outputs": [
        {
          "name": "stdout",
          "output_type": "stream",
          "text": [
            "Hello World\n"
          ]
        }
      ]
    },
    {
      "cell_type": "code",
      "metadata": {
        "id": "xt5eEC543T9O",
        "outputId": "8cde5652-8e18-4d69-a061-2e3427264078"
      },
      "source": [
        "a = 10\n",
        "print(\"The value of a is\", a) #python 3\n",
        "print \"The value of a is \" + str(a)"
      ],
      "execution_count": null,
      "outputs": [
        {
          "name": "stdout",
          "output_type": "stream",
          "text": [
            "('The value of a is', 10)\n",
            "The value of a is 10\n"
          ]
        }
      ]
    },
    {
      "cell_type": "markdown",
      "metadata": {
        "id": "pRkPp9ry3T9O"
      },
      "source": [
        "# Output Formatting"
      ]
    },
    {
      "cell_type": "code",
      "metadata": {
        "id": "BeF6gA5Y3T9P",
        "outputId": "b5cfe110-4ee7-4dd0-e71a-5ef7ce737835"
      },
      "source": [
        "a = 10; b = 20 #multiple statements in single line.\n",
        "\n",
        "print(\"The value of a is {} and b is {}\".format(a, b))    #default"
      ],
      "execution_count": null,
      "outputs": [
        {
          "name": "stdout",
          "output_type": "stream",
          "text": [
            "The value of a is 10 and b is 20\n"
          ]
        }
      ]
    },
    {
      "cell_type": "code",
      "metadata": {
        "id": "N3fLSTVE3T9R",
        "outputId": "e2c51813-d283-435f-9e87-5a0577eb729f"
      },
      "source": [
        "a = 10; b = 20  #multiple statements in single line\n",
        "\n",
        "print(\"The value of b is {1} and a is {0}\".format(a, b)) #specify position of arguments"
      ],
      "execution_count": null,
      "outputs": [
        {
          "name": "stdout",
          "output_type": "stream",
          "text": [
            "The value of b is 20 and a is 10\n"
          ]
        }
      ]
    },
    {
      "cell_type": "code",
      "metadata": {
        "id": "mmH4Hhtw3T9S",
        "outputId": "2ea51082-fcec-4a88-a63b-aab09a43c11c"
      },
      "source": [
        "#we can use keyword arguments to format the string\n",
        "print(\"Hello {name}, {greeting}\".format(name=\"satish\", greeting=\"Good Morning\"))"
      ],
      "execution_count": null,
      "outputs": [
        {
          "name": "stdout",
          "output_type": "stream",
          "text": [
            "Hello satish, Good Morning\n"
          ]
        }
      ]
    },
    {
      "cell_type": "code",
      "metadata": {
        "id": "9gjLDX7r3T9T",
        "outputId": "d94f207e-28c6-4b16-d78d-2ea4751bc592"
      },
      "source": [
        "#we can combine positional arguments with keyword arguments\n",
        "print('The story of {0}, {1}, and {other}'.format('Bill', 'Manfred',\n",
        "                                                       other='Georg'))"
      ],
      "execution_count": null,
      "outputs": [
        {
          "name": "stdout",
          "output_type": "stream",
          "text": [
            "The story of Bill, Manfred, and Georg\n"
          ]
        }
      ]
    },
    {
      "cell_type": "markdown",
      "metadata": {
        "id": "_RmGAfnA3T9U"
      },
      "source": [
        "# Python Input"
      ]
    },
    {
      "cell_type": "markdown",
      "metadata": {
        "id": "03_N8WgP3T9V"
      },
      "source": [
        "want to take the input from the user. In Python, we have the input() function to allow this. "
      ]
    },
    {
      "cell_type": "code",
      "metadata": {
        "id": "IazVq_ik3T9V",
        "outputId": "9ba88da9-dda7-4115-9cc4-30cd56433fd7"
      },
      "source": [
        "num = input(\"Enter a number: \")\n",
        "print num"
      ],
      "execution_count": null,
      "outputs": [
        {
          "name": "stdout",
          "output_type": "stream",
          "text": [
            "Enter a number: 10\n",
            "10\n"
          ]
        }
      ]
    }
  ]
}